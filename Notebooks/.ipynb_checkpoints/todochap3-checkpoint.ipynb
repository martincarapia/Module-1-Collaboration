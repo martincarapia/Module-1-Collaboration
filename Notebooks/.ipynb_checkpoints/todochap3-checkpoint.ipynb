{
 "cells": [
  {
   "cell_type": "markdown",
   "id": "04af611c-c70c-4429-bb4f-be31683d45f7",
   "metadata": {},
   "source": [
    "How many seconds are in an hour? \\\n",
    "Use the interactive interpreter as a calculator and multiply the number of seconds in a minute (60) \n",
    "by the number of minutes in an hour (also 60)."
   ]
  },
  {
   "cell_type": "code",
   "execution_count": null,
   "id": "08017437-21c5-4272-8aa5-b57e27e37f68",
   "metadata": {},
   "outputs": [],
   "source": []
  }
 ],
 "metadata": {
  "kernelspec": {
   "display_name": "Python 3 (ipykernel)",
   "language": "python",
   "name": "python3"
  },
  "language_info": {
   "codemirror_mode": {
    "name": "ipython",
    "version": 3
   },
   "file_extension": ".py",
   "mimetype": "text/x-python",
   "name": "python",
   "nbconvert_exporter": "python",
   "pygments_lexer": "ipython3",
   "version": "3.12.4"
  }
 },
 "nbformat": 4,
 "nbformat_minor": 5
}
