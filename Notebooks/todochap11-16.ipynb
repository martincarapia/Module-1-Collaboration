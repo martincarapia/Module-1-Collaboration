{
 "cells": [
  {
   "cell_type": "markdown",
   "metadata": {},
   "source": [
    "In your text book, navigate to the end of Chapter 11 and 16 to the section titled \"Things to Do\"\n",
    "Complete the following sections in your Jupyter Notebook:\n",
    "11.1\n",
    "11.2\n",
    "16.8\n",
    "Make sure both answer the prompts(if given) and complete the Python interactive interpreter piece for each question\n",
    "You can do this in Jupyter notebooks by inserting code to complete the interactive interpreter piece and adding markdown to answer the prompts (if given) for each question"
   ]
  },
  {
   "cell_type": "markdown",
   "metadata": {},
   "source": [
    "## 11.1\n",
    "\n",
    "Create a file called zoo.py. In it, define a function called hours() that prints the string 'Open 9-5 daily'. Then, use the interactive interpreter to import the zoo module and call its hours() function.\n"
   ]
  },
  {
   "cell_type": "code",
   "execution_count": 1,
   "metadata": {},
   "outputs": [
    {
     "name": "stdout",
     "output_type": "stream",
     "text": [
      "Open 9-5 daily\n"
     ]
    }
   ],
   "source": [
    "from zoo import hours\n",
    "\n",
    "hours()"
   ]
  },
  {
   "cell_type": "markdown",
   "metadata": {},
   "source": [
    "# 11.2\n",
    "In the interactive interpreter, import the zoo module as menagerie and call its hours() function."
   ]
  },
  {
   "cell_type": "code",
   "execution_count": 2,
   "metadata": {},
   "outputs": [
    {
     "name": "stdout",
     "output_type": "stream",
     "text": [
      "Open 9-5 daily\n"
     ]
    }
   ],
   "source": [
    "import zoo as menagerie\n",
    "menagerie.hours()"
   ]
  },
  {
   "cell_type": "markdown",
   "metadata": {},
   "source": [
    "## 16.4\n",
    "\n",
    "Use the sqlite3 module to create a SQLite database called books.db and a table called books with these fields: title (text), author (text), and year (integer).\n",
    "\n"
   ]
  },
  {
   "cell_type": "code",
   "execution_count": 3,
   "metadata": {},
   "outputs": [],
   "source": [
    "import sqlite3\n",
    "\n",
    "# Connect to the SQLite database (or create it if it doesn't exist)\n",
    "conn = sqlite3.connect('books.db')\n",
    "\n",
    "# Create a cursor object\n",
    "cursor = conn.cursor()\n",
    "\n",
    "# Create the books table\n",
    "cursor.execute('''\n",
    "CREATE TABLE IF NOT EXISTS books (\n",
    "    title TEXT,\n",
    "    author TEXT,\n",
    "    year INTEGER\n",
    ")\n",
    "''')\n",
    "# Define the books list with sample data\n",
    "books = [\n",
    "    [\"The Great Gatsby\", \"F. Scott Fitzgerald\", 1925],\n",
    "    [\"To Kill a Mockingbird\", \"Harper Lee\", 1960],\n",
    "    [\"1984\", \"George Orwell\", 1949],\n",
    "    [\"Pride and Prejudice\", \"Jane Austen\", 1813],\n",
    "    [\"The Catcher in the Rye\", \"J.D. Salinger\", 1951]\n",
    "]\n",
    "\n",
    "# Insert data into the books table\n",
    "cursor.executemany('''\n",
    "INSERT INTO books (title, author, year) VALUES (?, ?, ?)\n",
    "''', books)\n",
    "\n",
    "# Commit the changes and close the connection\n",
    "conn.commit()\n",
    "conn.close()"
   ]
  },
  {
   "cell_type": "markdown",
   "metadata": {},
   "source": [
    "## 16.8\n",
    "\n",
    "Use the sqlalchemy module to connect to the sqlite3 database books.db that you just made in exercise 16.4. As in 16.6, select and print the title column from the book table in alphabetical order."
   ]
  },
  {
   "cell_type": "code",
   "execution_count": 4,
   "metadata": {},
   "outputs": [
    {
     "name": "stdout",
     "output_type": "stream",
     "text": [
      "1984\n",
      "Pride and Prejudice\n",
      "The Catcher in the Rye\n",
      "The Great Gatsby\n",
      "To Kill a Mockingbird\n"
     ]
    }
   ],
   "source": [
    "from sqlalchemy import create_engine, MetaData, Table, select\n",
    "\n",
    "engine = create_engine('sqlite:///books.db')\n",
    "\n",
    "\n",
    "metadata = MetaData()\n",
    "\n",
    "\n",
    "books_table = Table('books', metadata, autoload_with=engine)\n",
    "\n",
    "with engine.connect() as connection:\n",
    "\n",
    "    query = select(books_table.c.title).order_by(books_table.c.title)\n",
    "    result = connection.execute(query)\n",
    "    \n",
    "    for row in result:\n",
    "        print(row[0])\n"
   ]
  }
 ],
 "metadata": {
  "kernelspec": {
   "display_name": "Python 3",
   "language": "python",
   "name": "python3"
  },
  "language_info": {
   "codemirror_mode": {
    "name": "ipython",
    "version": 3
   },
   "file_extension": ".py",
   "mimetype": "text/x-python",
   "name": "python",
   "nbconvert_exporter": "python",
   "pygments_lexer": "ipython3",
   "version": "3.12.5"
  }
 },
 "nbformat": 4,
 "nbformat_minor": 2
}
