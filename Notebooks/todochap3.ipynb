{
 "cells": [
  {
   "cell_type": "markdown",
   "id": "ef42f6ae-9790-456c-9199-10591242a28a",
   "metadata": {},
   "source": [
    "# Things to Do"
   ]
  },
  {
   "attachments": {},
   "cell_type": "markdown",
   "id": "04af611c-c70c-4429-bb4f-be31683d45f7",
   "metadata": {},
   "source": [
    "## 3.1\n",
    "How many seconds are in an hour?\n",
    "Use the interactive interpreter as a calculator and multiply the number of seconds in a minute (60) \n",
    "by the number of minutes in an hour (also 60).\n"
   ]
  },
  {
   "cell_type": "code",
   "execution_count": 3,
   "id": "9fb57cbe-2936-4a01-b3ce-6f98ff4bbab8",
   "metadata": {},
   "outputs": [
    {
     "name": "stdout",
     "output_type": "stream",
     "text": [
      "3600\n"
     ]
    }
   ],
   "source": [
    "print(60*60)"
   ]
  },
  {
   "cell_type": "markdown",
   "id": "957b6245-2587-47cd-921d-bcb7537baf6d",
   "metadata": {},
   "source": [
    "There are 3600 seconds in an hour"
   ]
  },
  {
   "attachments": {},
   "cell_type": "markdown",
   "id": "9c5dd022-b5a8-4742-80aa-0d8a14a862dd",
   "metadata": {},
   "source": [
    "## 3.2\n",
    "Assign the result from the previous task (seconds in an hour) to a variable called seconds_per_hour.\n"
   ]
  },
  {
   "cell_type": "code",
   "execution_count": 6,
   "id": "57172527-4f85-4791-b629-3b31a4ca9df9",
   "metadata": {},
   "outputs": [],
   "source": [
    "seconds_per_hour = 60 * 60"
   ]
  },
  {
   "cell_type": "markdown",
   "id": "41ca0754-cf17-4ce1-a929-a0f28a8b0b6b",
   "metadata": {},
   "source": [
    "## 3.3\n",
    "How many seconds are in a day? Use your seconds_per_hour variable."
   ]
  },
  {
   "cell_type": "code",
   "execution_count": 8,
   "id": "1af5944f-9941-4e91-bf05-6f1a19082d30",
   "metadata": {},
   "outputs": [
    {
     "name": "stdout",
     "output_type": "stream",
     "text": [
      "86400\n"
     ]
    }
   ],
   "source": [
    "print(24*seconds_per_hour)"
   ]
  },
  {
   "cell_type": "markdown",
   "id": "1b36be9b-4e02-43b1-b1f3-647302b54b20",
   "metadata": {},
   "source": [
    "There are 86400 in a day"
   ]
  },
  {
   "cell_type": "markdown",
   "id": "5f2694a6-9d5c-4c85-9e5d-6a1130a68bd4",
   "metadata": {},
   "source": [
    "## 3.4\n",
    "Calculate seconds per day again, but this time save the result in a variable called seconds_per_day."
   ]
  },
  {
   "cell_type": "code",
   "execution_count": 11,
   "id": "d80e7ef2-793f-4134-a11b-178d9e97afc7",
   "metadata": {},
   "outputs": [],
   "source": [
    "seconds_per_day = 24 * seconds_per_hour"
   ]
  },
  {
   "cell_type": "markdown",
   "id": "38870bd0-93fd-4665-ae7e-99faf83217c1",
   "metadata": {},
   "source": [
    "## 3.5 \n",
    "Divide seconds_per_day by seconds_per_hour. Use floating-point (/) division."
   ]
  },
  {
   "cell_type": "code",
   "execution_count": 13,
   "id": "9d933f7b-36e8-4c0a-a60f-801a368e841a",
   "metadata": {},
   "outputs": [
    {
     "name": "stdout",
     "output_type": "stream",
     "text": [
      "24.0\n"
     ]
    }
   ],
   "source": [
    "print(seconds_per_day / seconds_per_hour)"
   ]
  },
  {
   "cell_type": "markdown",
   "id": "26cc4158-a342-47b3-a421-805a65e57584",
   "metadata": {},
   "source": [
    "## 3.6\n",
    "Divide seconds_per_day by seconds_per_hour, using integer (//) division. Did this number agree with the floating-point value from the previous question, aside from the final .0?"
   ]
  },
  {
   "cell_type": "code",
   "execution_count": 15,
   "id": "5434e0bf-1a79-4f06-acad-6ebc730c5fc6",
   "metadata": {},
   "outputs": [
    {
     "name": "stdout",
     "output_type": "stream",
     "text": [
      "24\n"
     ]
    }
   ],
   "source": [
    "print(seconds_per_day // seconds_per_hour)"
   ]
  },
  {
   "cell_type": "markdown",
   "id": "b08a74e9-5049-497e-8e62-23332f29fff6",
   "metadata": {},
   "source": [
    "The number did agree with the floating-point value from the previous question aside from the final \".0\"."
   ]
  }
 ],
 "metadata": {
  "kernelspec": {
   "display_name": "Python 3 (ipykernel)",
   "language": "python",
   "name": "python3"
  },
  "language_info": {
   "codemirror_mode": {
    "name": "ipython",
    "version": 3
   },
   "file_extension": ".py",
   "mimetype": "text/x-python",
   "name": "python",
   "nbconvert_exporter": "python",
   "pygments_lexer": "ipython3",
   "version": "3.12.4"
  }
 },
 "nbformat": 4,
 "nbformat_minor": 5
}
