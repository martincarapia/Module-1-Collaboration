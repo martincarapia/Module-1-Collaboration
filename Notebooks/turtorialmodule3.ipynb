{
 "cells": [
  {
   "cell_type": "markdown",
   "metadata": {},
   "source": [
    "There will be two exercises that you will need to turn in:\n",
    "- Sort an Array of 0s, 1s, and 2s\n",
    "- Binary Search"
   ]
  },
  {
   "cell_type": "markdown",
   "metadata": {},
   "source": [
    "Complete the programming exercise - Sort an Array of 0s, 1s, and 2sLinks to an external site.. Make sure that you choose Python 3 as the language for the exercise (in the top left of the code window)\n",
    "If you need help with the code, you may click the Editorial tab in the left window (the instructions window) to get a walk-through of the code. "
   ]
  },
  {
   "cell_type": "code",
   "execution_count": 2,
   "metadata": {},
   "outputs": [],
   "source": [
    "class Solution:\n",
    "    # Function to sort an array of 0s, 1s, and 2s\n",
    "    def sort012(self, arr):\n",
    "        # code here\n",
    "        return arr.sort()"
   ]
  },
  {
   "cell_type": "markdown",
   "metadata": {},
   "source": [
    "Complete the programming exercise - Binary SearchLinks to an external site.. Make sure that you choose Python 3 as the language for the exercise (in the top left of the code window)\n",
    "If you need help with the code, you may click the Editorial tab in the left window (the instructions window) to get a walk-through of the code. "
   ]
  },
  {
   "cell_type": "code",
   "execution_count": 3,
   "metadata": {},
   "outputs": [],
   "source": [
    "class Solution:\n",
    "    def binarysearch(self, arr, k):\n",
    "        # Code Here\n",
    "        # Think of binary search like cuttng a cake\n",
    "        smallestindex = 0\n",
    "        largestindex = len(arr) - 1\n",
    "        \n",
    "        while smallestindex <= largestindex:\n",
    "            middleindex = (smallestindex + largestindex) // 2\n",
    "            \n",
    "            # Check if the element is present at mid\n",
    "            if arr[middleindex] == k:\n",
    "                return middleindex\n",
    "            # If k is smaller, ignore the right half\n",
    "            elif arr[middleindex] > k:\n",
    "                largestindex = middleindex - 1\n",
    "            # If k is greater, ignore the left half\n",
    "            else:\n",
    "                smallestindex = middleindex + 1\n",
    "        \n",
    "        # Element is not present in the array\n",
    "        return -1\n"
   ]
  }
 ],
 "metadata": {
  "kernelspec": {
   "display_name": "Python 3",
   "language": "python",
   "name": "python3"
  },
  "language_info": {
   "codemirror_mode": {
    "name": "ipython",
    "version": 3
   },
   "file_extension": ".py",
   "mimetype": "text/x-python",
   "name": "python",
   "nbconvert_exporter": "python",
   "pygments_lexer": "ipython3",
   "version": "3.12.5"
  }
 },
 "nbformat": 4,
 "nbformat_minor": 2
}
